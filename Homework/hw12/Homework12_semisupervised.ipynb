{
  "nbformat": 4,
  "nbformat_minor": 0,
  "metadata": {
    "colab": {
      "name": "Homework12_semisupervised.ipynb",
      "provenance": [],
      "collapsed_sections": []
    },
    "kernelspec": {
      "name": "python3",
      "display_name": "Python 3"
    },
    "language_info": {
      "name": "python"
    },
    "accelerator": "GPU"
  },
  "cells": [
    {
      "cell_type": "markdown",
      "metadata": {
        "id": "view-in-github"
      },
      "source": [
        "<a href=\"https://colab.research.google.com/github/GrigoryBartosh/dul_2021/blob/main/Homework/hw12/Homework12_semisupervised.ipynb\" target=\"_parent\"><img src=\"https://colab.research.google.com/assets/colab-badge.svg\" alt=\"Open In Colab\"/></a>"
      ]
    },
    {
      "cell_type": "code",
      "source": [
        "!if [ -d dul_2021 ]; then rm -Rf dul_2021; fi\n",
        "!git clone https://github.com/Mogreine/dul_2021\n",
        "!pip install ./dul_2021"
      ],
      "metadata": {
        "id": "vEPPrGksax7-",
        "colab": {
          "base_uri": "https://localhost:8080/"
        },
        "outputId": "25784103-bf5a-41ce-9286-a03793cc3bb5"
      },
      "execution_count": 1,
      "outputs": [
        {
          "output_type": "stream",
          "name": "stdout",
          "text": [
            "Cloning into 'dul_2021'...\n",
            "remote: Enumerating objects: 471, done.\u001b[K\n",
            "remote: Counting objects: 100% (276/276), done.\u001b[K\n",
            "remote: Compressing objects: 100% (176/176), done.\u001b[K\n",
            "remote: Total 471 (delta 155), reused 144 (delta 90), pack-reused 195\u001b[K\n",
            "Receiving objects: 100% (471/471), 60.43 MiB | 36.06 MiB/s, done.\n",
            "Resolving deltas: 100% (223/223), done.\n",
            "Processing ./dul_2021\n",
            "\u001b[33m  DEPRECATION: A future pip version will change local packages to be built in-place without first copying to a temporary directory. We recommend you use --use-feature=in-tree-build to test your packages with this new behavior before it becomes the default.\n",
            "   pip 21.3 will remove support for this functionality. You can find discussion regarding this at https://github.com/pypa/pip/issues/7555.\u001b[0m\n",
            "Building wheels for collected packages: dul-2021\n",
            "  Building wheel for dul-2021 (setup.py) ... \u001b[?25l\u001b[?25hdone\n",
            "  Created wheel for dul-2021: filename=dul_2021-0.1.0-py3-none-any.whl size=27645 sha256=e4f135f9efd7e57fda98946339d5a3151765fab68cc567f491d9ac8aec6a5295\n",
            "  Stored in directory: /tmp/pip-ephem-wheel-cache-_xwvmxql/wheels/55/59/29/0fb1c635652157734f4d741f32fc11979149684e83e919de06\n",
            "Successfully built dul-2021\n",
            "Installing collected packages: dul-2021\n",
            "Successfully installed dul-2021-0.1.0\n"
          ]
        }
      ]
    },
    {
      "cell_type": "code",
      "source": [
        "from dul_2021.utils.hw12_utils import *"
      ],
      "metadata": {
        "id": "VUu3B_L7azpr"
      },
      "execution_count": 2,
      "outputs": []
    },
    {
      "cell_type": "code",
      "source": [
        "!pip install torchmetrics"
      ],
      "metadata": {
        "colab": {
          "base_uri": "https://localhost:8080/"
        },
        "id": "rndC_mLSpzzv",
        "outputId": "27bae796-80db-4ced-caf7-10e39543ce21"
      },
      "execution_count": 3,
      "outputs": [
        {
          "output_type": "stream",
          "name": "stdout",
          "text": [
            "Collecting torchmetrics\n",
            "  Downloading torchmetrics-0.7.2-py3-none-any.whl (397 kB)\n",
            "\u001b[?25l\r\u001b[K     |▉                               | 10 kB 18.2 MB/s eta 0:00:01\r\u001b[K     |█▋                              | 20 kB 6.7 MB/s eta 0:00:01\r\u001b[K     |██▌                             | 30 kB 4.3 MB/s eta 0:00:01\r\u001b[K     |███▎                            | 40 kB 4.0 MB/s eta 0:00:01\r\u001b[K     |████▏                           | 51 kB 3.4 MB/s eta 0:00:01\r\u001b[K     |█████                           | 61 kB 4.0 MB/s eta 0:00:01\r\u001b[K     |█████▊                          | 71 kB 4.2 MB/s eta 0:00:01\r\u001b[K     |██████▋                         | 81 kB 3.9 MB/s eta 0:00:01\r\u001b[K     |███████▍                        | 92 kB 4.3 MB/s eta 0:00:01\r\u001b[K     |████████▎                       | 102 kB 4.6 MB/s eta 0:00:01\r\u001b[K     |█████████                       | 112 kB 4.6 MB/s eta 0:00:01\r\u001b[K     |██████████                      | 122 kB 4.6 MB/s eta 0:00:01\r\u001b[K     |██████████▊                     | 133 kB 4.6 MB/s eta 0:00:01\r\u001b[K     |███████████▌                    | 143 kB 4.6 MB/s eta 0:00:01\r\u001b[K     |████████████▍                   | 153 kB 4.6 MB/s eta 0:00:01\r\u001b[K     |█████████████▏                  | 163 kB 4.6 MB/s eta 0:00:01\r\u001b[K     |██████████████                  | 174 kB 4.6 MB/s eta 0:00:01\r\u001b[K     |██████████████▉                 | 184 kB 4.6 MB/s eta 0:00:01\r\u001b[K     |███████████████▊                | 194 kB 4.6 MB/s eta 0:00:01\r\u001b[K     |████████████████▌               | 204 kB 4.6 MB/s eta 0:00:01\r\u001b[K     |█████████████████▎              | 215 kB 4.6 MB/s eta 0:00:01\r\u001b[K     |██████████████████▏             | 225 kB 4.6 MB/s eta 0:00:01\r\u001b[K     |███████████████████             | 235 kB 4.6 MB/s eta 0:00:01\r\u001b[K     |███████████████████▉            | 245 kB 4.6 MB/s eta 0:00:01\r\u001b[K     |████████████████████▋           | 256 kB 4.6 MB/s eta 0:00:01\r\u001b[K     |█████████████████████▌          | 266 kB 4.6 MB/s eta 0:00:01\r\u001b[K     |██████████████████████▎         | 276 kB 4.6 MB/s eta 0:00:01\r\u001b[K     |███████████████████████         | 286 kB 4.6 MB/s eta 0:00:01\r\u001b[K     |████████████████████████        | 296 kB 4.6 MB/s eta 0:00:01\r\u001b[K     |████████████████████████▊       | 307 kB 4.6 MB/s eta 0:00:01\r\u001b[K     |█████████████████████████▋      | 317 kB 4.6 MB/s eta 0:00:01\r\u001b[K     |██████████████████████████▍     | 327 kB 4.6 MB/s eta 0:00:01\r\u001b[K     |███████████████████████████▎    | 337 kB 4.6 MB/s eta 0:00:01\r\u001b[K     |████████████████████████████    | 348 kB 4.6 MB/s eta 0:00:01\r\u001b[K     |████████████████████████████▉   | 358 kB 4.6 MB/s eta 0:00:01\r\u001b[K     |█████████████████████████████▊  | 368 kB 4.6 MB/s eta 0:00:01\r\u001b[K     |██████████████████████████████▌ | 378 kB 4.6 MB/s eta 0:00:01\r\u001b[K     |███████████████████████████████▍| 389 kB 4.6 MB/s eta 0:00:01\r\u001b[K     |████████████████████████████████| 397 kB 4.6 MB/s \n",
            "\u001b[?25hRequirement already satisfied: torch>=1.3.1 in /usr/local/lib/python3.7/dist-packages (from torchmetrics) (1.10.0+cu111)\n",
            "Requirement already satisfied: packaging in /usr/local/lib/python3.7/dist-packages (from torchmetrics) (21.3)\n",
            "Requirement already satisfied: numpy>=1.17.2 in /usr/local/lib/python3.7/dist-packages (from torchmetrics) (1.21.5)\n",
            "Collecting pyDeprecate==0.3.*\n",
            "  Downloading pyDeprecate-0.3.2-py3-none-any.whl (10 kB)\n",
            "Requirement already satisfied: typing-extensions in /usr/local/lib/python3.7/dist-packages (from torch>=1.3.1->torchmetrics) (3.10.0.2)\n",
            "Requirement already satisfied: pyparsing!=3.0.5,>=2.0.2 in /usr/local/lib/python3.7/dist-packages (from packaging->torchmetrics) (3.0.7)\n",
            "Installing collected packages: pyDeprecate, torchmetrics\n",
            "Successfully installed pyDeprecate-0.3.2 torchmetrics-0.7.2\n"
          ]
        }
      ]
    },
    {
      "cell_type": "markdown",
      "source": [
        "# Question 1. VAT\n",
        "\n",
        "Here we will implement [VAT](https://arxiv.org/pdf/1704.03976.pdf).\n",
        "\n",
        "* Train labeled data with standatd cross-entropy loss\n",
        "\n",
        "* Use vat regularization for both unlabeled and labeled data\n",
        "\n",
        "* You can use architecture from practice\n",
        "\n",
        "* Dataset comes as pairs `x, y`. `x` is an image from CIFAR10. `y` is a label from `[0, 10]` if datapoint is labeled and `-1` otherwise.\n",
        "\n",
        "**Hyperparameters**\n",
        "\n",
        "* ξ= 10 \n",
        "* lr = 5e-4\n",
        "* num_epochs = 15\n",
        "\n",
        "\n",
        "\n",
        "**You will provide the following deliverables**\n",
        "\n",
        "\n",
        "1. Over the course of training, record loss ber batch.\n",
        "2. After each epoch calculate accuracy on test data."
      ],
      "metadata": {
        "id": "qo4zHxLOv5rX"
      }
    },
    {
      "cell_type": "code",
      "source": [
        "import numpy as np\n",
        "import torch\n",
        "import torchmetrics\n",
        "\n",
        "from tqdm import tqdm\n",
        "from torch import nn\n",
        "from torch.nn import functional as F\n",
        "\n",
        "from utils.hw12_utils import *\n",
        "\n",
        "\n",
        "class Classifier(nn.Module):\n",
        "    def __init__(self, n_classes: int):\n",
        "        super().__init__()\n",
        "        self.model = nn.Sequential(\n",
        "            nn.Conv2d(3, 32, 3, 1, 1),\n",
        "            nn.BatchNorm2d(32),\n",
        "            nn.LeakyReLU(),\n",
        "            nn.Conv2d(32, 64, 3, 2, 1),\n",
        "            nn.BatchNorm2d(64),\n",
        "            nn.LeakyReLU(),\n",
        "            nn.Conv2d(64, 128, 3, 2, 1),\n",
        "            nn.BatchNorm2d(128),\n",
        "            nn.LeakyReLU(),\n",
        "            nn.Conv2d(128, 128, 3, 2, 1),\n",
        "            nn.BatchNorm2d(128),\n",
        "            nn.LeakyReLU(),\n",
        "            nn.Flatten(),\n",
        "            nn.Linear(128 * 4 * 4, 128),\n",
        "            nn.BatchNorm1d(128),\n",
        "            nn.LeakyReLU(),\n",
        "            nn.Linear(128, n_classes)\n",
        "        )\n",
        "\n",
        "    def forward(self, x: torch.Tensor) -> torch.Tensor:\n",
        "        return self.model(x)\n",
        "\n",
        "\n",
        "class VAT(nn.Module):\n",
        "    def __init__(self, xi: float = 1):\n",
        "        super().__init__()\n",
        "        self.clf = Classifier(n_classes=10)\n",
        "        self.acc = torchmetrics.Accuracy()\n",
        "        self.xi = xi\n",
        "\n",
        "    @property\n",
        "    def device(self):\n",
        "        return next(self.clf.parameters()).device\n",
        "\n",
        "    def fit(self, train_dataloader, test_dataloader, n_epochs=10, lr=1e-4, device=\"cuda\"):\n",
        "        self.to(device)\n",
        "        losses = []\n",
        "        accs = []\n",
        "        opt = torch.optim.Adam(self.clf.parameters(), lr=lr)\n",
        "        for epoch in range(n_epochs):\n",
        "            pbar = tqdm(train_dataloader, desc=\"Training...\")\n",
        "            for batch in pbar:\n",
        "                imgs, labels = batch\n",
        "                imgs = imgs.to(device)\n",
        "                labels = labels.to(device)\n",
        "\n",
        "                loss = self.__loss(imgs, labels)\n",
        "                acc = self.__calc_acc(test_dataloader)\n",
        "\n",
        "                losses.append(loss.item())\n",
        "                accs.append(acc.item())\n",
        "\n",
        "                opt.zero_grad()\n",
        "                loss.backward()\n",
        "                opt.step()\n",
        "\n",
        "                pbar.set_postfix({\"loss\": losses[-1], \"acc_val\": accs[-1]})\n",
        "\n",
        "        return np.array(losses), np.array(accs)\n",
        "\n",
        "    def __loss(self, imgs, labels):\n",
        "        labeled = labels != -1\n",
        "        ce_loss = self.__loss_clf(imgs[labeled], labels[labeled])\n",
        "        adv_loss = self.__loss_adv(imgs)\n",
        "        return ce_loss + adv_loss\n",
        "\n",
        "    def __loss_clf(self, imgs, labels):\n",
        "        logits = self.clf(imgs)\n",
        "        return F.cross_entropy(logits, labels)\n",
        "\n",
        "    def __loss_adv(self, imgs):\n",
        "        d = torch.randn_like(imgs).to(self.device)\n",
        "        d = self.__normalize(d)\n",
        "\n",
        "        r = self.xi * d\n",
        "        r.requires_grad_(True)\n",
        "\n",
        "        preds = F.softmax(self.clf(imgs), dim=1)\n",
        "        r_adv = self.__direction_grad(imgs, preds, r)\n",
        "\n",
        "        pred_hat = self.clf(imgs + r_adv)\n",
        "        logp_hat = F.log_softmax(pred_hat, dim=1)\n",
        "        loss = F.kl_div(logp_hat, preds, reduction=\"batchmean\")\n",
        "\n",
        "        return loss\n",
        "\n",
        "    def __direction_grad(self, imgs, preds, r):\n",
        "        pred_hat = self.clf(imgs + r)\n",
        "        logp_hat = F.log_softmax(pred_hat, dim=1)\n",
        "\n",
        "        adv_distance = F.kl_div(logp_hat, preds, reduction=\"batchmean\")\n",
        "        \n",
        "        r_adv = torch.autograd.grad(adv_distance, r)[0]\n",
        "\n",
        "        r_adv = self.__normalize(r_adv)\n",
        "        return r_adv\n",
        "\n",
        "    def __normalize(self, x: torch.Tensor) -> torch.Tensor:\n",
        "        x_reshaped = x.view(x.shape[0], -1)\n",
        "        x_reshaped_norm = F.normalize(x_reshaped, p=2, dim=1)\n",
        "        x = x_reshaped_norm.view(x.shape)\n",
        "        return x\n",
        "\n",
        "    @torch.no_grad()\n",
        "    def __calc_acc(self, dataloader):\n",
        "        for batch in dataloader:\n",
        "            imgs, labels = batch\n",
        "            imgs = imgs.to(self.device)\n",
        "            labels = labels.to(self.device)\n",
        "            logits = self.clf(imgs)\n",
        "\n",
        "            self.acc(logits.argmax(dim=-1), labels)\n",
        "\n",
        "        acc = self.acc.compute()\n",
        "        self.acc.reset()\n",
        "\n",
        "        return acc\n",
        "\n",
        "\n",
        "def create_dataloader(data, bs, shuffle=True):\n",
        "    imgs, labels = zip(*data)\n",
        "    imgs = torch.stack(imgs, dim=0)\n",
        "    labels = torch.tensor(labels, dtype=torch.int64)\n",
        "\n",
        "    dataset = torch.utils.data.TensorDataset(imgs, labels)\n",
        "\n",
        "    return torch.utils.data.DataLoader(dataset, batch_size=bs, shuffle=shuffle)\n"
      ],
      "metadata": {
        "id": "v3neKPxpZImJ"
      },
      "execution_count": null,
      "outputs": []
    },
    {
      "cell_type": "code",
      "source": [
        "def q1(train_data, test_data):\n",
        "    \"\"\"\n",
        "    train_data: An (n_train, 3, 32, 32) torchvision dataset of CIFAR10 images with values from -1 to 1\n",
        "\n",
        "    Returns\n",
        "    - a (# of training iterations, ) numpy array  losses on each iteration\n",
        "    - a (# of training epochs, ) numpy array accuracies on each epoch\n",
        "    \"\"\"\n",
        "    torch.manual_seed(42)\n",
        "    bs = 256\n",
        "    lr = 4e-4\n",
        "    n_epochs = 1\n",
        "    device = \"cuda\"\n",
        "\n",
        "    train_loader = create_dataloader(train_data, bs)\n",
        "    test_loader = create_dataloader(test_data, bs, False)\n",
        "\n",
        "    model = VAT()\n",
        "    losses, accs = model.fit(train_loader, test_loader, n_epochs=n_epochs, lr=lr, device=device)\n",
        "\n",
        "    return losses, accs"
      ],
      "metadata": {
        "id": "aye-0NRNplA0"
      },
      "execution_count": null,
      "outputs": []
    },
    {
      "cell_type": "code",
      "source": [
        "q12_results(q1)"
      ],
      "metadata": {
        "colab": {
          "base_uri": "https://localhost:8080/",
          "height": 625
        },
        "id": "saxnnzOCzkMx",
        "outputId": "56411c7b-9d97-49cf-e48d-25a967a4413d"
      },
      "execution_count": null,
      "outputs": [
        {
          "output_type": "stream",
          "name": "stdout",
          "text": [
            "Files already downloaded and verified\n",
            "Files already downloaded and verified\n"
          ]
        },
        {
          "output_type": "stream",
          "name": "stderr",
          "text": [
            "Training...: 100%|██████████| 196/196 [04:50<00:00,  1.48s/it, loss=1.63, acc_val=0.458]\n"
          ]
        },
        {
          "output_type": "display_data",
          "data": {
            "image/png": "[encoded data removed]",
            "text/plain": [
              "<Figure size 432x288 with 1 Axes>"
            ]
          },
          "metadata": {
            "needs_background": "light"
          }
        },
        {
          "output_type": "display_data",
          "data": {
            "image/png": "[encoded data removed]",
            "text/plain": [
              "<Figure size 432x288 with 1 Axes>"
            ]
          },
          "metadata": {
            "needs_background": "light"
          }
        }
      ]
    },
    {
      "cell_type": "code",
      "source": [
        ""
      ],
      "metadata": {
        "id": "pe5h3k7yZH_Q"
      },
      "execution_count": null,
      "outputs": []
    },
    {
      "cell_type": "markdown",
      "source": [
        "# Question 2. FixMatch\n",
        "\n",
        "Here we will implement [FixMatch](https://arxiv.org/abs/2001.07685).\n",
        "\n",
        "* Calculate loss on weakly augmented labeled data with standatd cross-entropy loss\n",
        "\n",
        "* Calculate loss on strongly augmented unlabeled data with standatd cross-entropy loss with pseudo-lables\n",
        "\n",
        "* Use SimCLR transformations as strong and RandomHorizontalFlip as weak\n",
        "\n",
        "* You can use architecture from practice\n",
        "\n",
        "* Dataset comes as pairs `x, y`. `x` is an image from CIFAR10. `y` is a label from `[0, 10]` if datapoint is labeled and `-1` otherwise.\n",
        "\n",
        "**Hyperparameters**\n",
        "\n",
        "* τ = 0.7 \n",
        "* λ_u = 10 (weight of unlabeled loss)\n",
        "* lr = 5e-4\n",
        "* num_epochs ~ 20 or more\n",
        "\n",
        "\n",
        "\n",
        "**You will provide the following deliverables**\n",
        "\n",
        "\n",
        "1. Over the course of training, record loss ber batch.\n",
        "2. After each epoch calculate accuracy on test data."
      ],
      "metadata": {
        "id": "zxgc1UFd_cpi"
      }
    },
    {
      "cell_type": "code",
      "source": [
        "import numpy as np\n",
        "import torch\n",
        "import torchmetrics\n",
        "\n",
        "from tqdm import tqdm\n",
        "from torch import nn\n",
        "from torch.nn import functional as F\n",
        "\n",
        "from utils.hw12_utils import *\n",
        "\n",
        "\n",
        "class Classifier(nn.Module):\n",
        "    def __init__(self, n_classes: int):\n",
        "        super().__init__()\n",
        "        self.model = nn.Sequential(\n",
        "            nn.Conv2d(3, 32, 3, 1, 1),\n",
        "            nn.BatchNorm2d(32),\n",
        "            nn.LeakyReLU(),\n",
        "            nn.Conv2d(32, 64, 3, 2, 1),\n",
        "            nn.BatchNorm2d(64),\n",
        "            nn.LeakyReLU(),\n",
        "            nn.Conv2d(64, 128, 3, 2, 1),\n",
        "            nn.BatchNorm2d(128),\n",
        "            nn.LeakyReLU(),\n",
        "            nn.Conv2d(128, 128, 3, 2, 1),\n",
        "            nn.BatchNorm2d(128),\n",
        "            nn.LeakyReLU(),\n",
        "            nn.Flatten(),\n",
        "            nn.Linear(128 * 4 * 4, 128),\n",
        "            nn.BatchNorm1d(128),\n",
        "            nn.LeakyReLU(),\n",
        "            nn.Linear(128, n_classes)\n",
        "        )\n",
        "\n",
        "    def forward(self, x: torch.Tensor) -> torch.Tensor:\n",
        "        return self.model(x)\n",
        "\n",
        "\n",
        "class VAT(nn.Module):\n",
        "    def __init__(self, xi: float = 1):\n",
        "        super().__init__()\n",
        "        self.clf = Classifier(n_classes=10)\n",
        "        self.acc = torchmetrics.Accuracy()\n",
        "        self.xi = xi\n",
        "\n",
        "    @property\n",
        "    def device(self):\n",
        "        return next(self.clf.parameters()).device\n",
        "\n",
        "    def fit(self, train_dataloader, test_dataloader, n_epochs=10, lr=1e-4, device=\"cuda\"):\n",
        "        self.to(device)\n",
        "        losses = []\n",
        "        accs = []\n",
        "        opt = torch.optim.Adam(self.clf.parameters(), lr=lr)\n",
        "        for epoch in range(n_epochs):\n",
        "            pbar = tqdm(train_dataloader, desc=\"Training...\")\n",
        "            for batch in pbar:\n",
        "                imgs, labels = batch\n",
        "                imgs = imgs.to(device)\n",
        "                labels = labels.to(device)\n",
        "\n",
        "                loss = self.__loss(imgs, labels)\n",
        "                acc = self.__calc_acc(test_dataloader)\n",
        "\n",
        "                losses.append(loss.item())\n",
        "                accs.append(acc.item())\n",
        "\n",
        "                opt.zero_grad()\n",
        "                loss.backward()\n",
        "                opt.step()\n",
        "\n",
        "                pbar.set_postfix({\"loss\": losses[-1], \"acc_val\": accs[-1]})\n",
        "\n",
        "        return np.array(losses), np.array(accs)\n",
        "\n",
        "    def __loss(self, imgs, labels):\n",
        "        labeled = labels != -1\n",
        "        ce_loss = self.__loss_clf(imgs[labeled], labels[labeled])\n",
        "        adv_loss = self.__loss_adv(imgs)\n",
        "        return ce_loss + adv_loss\n",
        "\n",
        "    def __loss_clf(self, imgs, labels):\n",
        "        logits = self.clf(imgs)\n",
        "        return F.cross_entropy(logits, labels)\n",
        "\n",
        "    def __loss_adv(self, imgs):\n",
        "        d = torch.randn_like(imgs).to(self.device)\n",
        "        d = self.__normalize(d)\n",
        "\n",
        "        r = self.xi * d\n",
        "        r.requires_grad_(True)\n",
        "\n",
        "        preds = F.softmax(self.clf(imgs), dim=1)\n",
        "        r_adv = self.__direction_grad(imgs, preds, r)\n",
        "\n",
        "        pred_hat = self.clf(imgs + r_adv)\n",
        "        logp_hat = F.log_softmax(pred_hat, dim=1)\n",
        "        loss = F.kl_div(logp_hat, preds, reduction=\"batchmean\")\n",
        "\n",
        "        return loss\n",
        "\n",
        "    def __direction_grad(self, imgs, preds, r):\n",
        "        pred_hat = self.clf(imgs + r)\n",
        "        logp_hat = F.log_softmax(pred_hat, dim=1)\n",
        "\n",
        "        adv_distance = F.kl_div(logp_hat, preds, reduction=\"batchmean\")\n",
        "\n",
        "        r_adv = torch.autograd.grad(adv_distance, r)[0]\n",
        "\n",
        "        r_adv = self.__normalize(r_adv)\n",
        "        return r_adv\n",
        "\n",
        "    def __normalize(self, x: torch.Tensor) -> torch.Tensor:\n",
        "        x_reshaped = x.view(x.shape[0], -1)\n",
        "        x_reshaped_norm = F.normalize(x_reshaped, p=2, dim=1)\n",
        "        x = x_reshaped_norm.view(x.shape)\n",
        "        return x\n",
        "\n",
        "    @torch.no_grad()\n",
        "    def __calc_acc(self, dataloader):\n",
        "        for batch in dataloader:\n",
        "            imgs, labels = batch\n",
        "            imgs = imgs.to(self.device)\n",
        "            labels = labels.to(self.device)\n",
        "            logits = self.clf(imgs)\n",
        "\n",
        "            self.acc(logits.argmax(dim=-1), labels)\n",
        "\n",
        "        acc = self.acc.compute()\n",
        "        self.acc.reset()\n",
        "\n",
        "        return acc\n",
        "\n",
        "\n",
        "class FixMatch(nn.Module):\n",
        "    def __init__(self, tau: float = 0.5):\n",
        "        super().__init__()\n",
        "        self.clf = Classifier(n_classes=10)\n",
        "        self.acc = torchmetrics.Accuracy()\n",
        "        self.tau = tau\n",
        "\n",
        "        self.strong_transforms = transforms.Compose(\n",
        "            [\n",
        "                transforms.RandomHorizontalFlip(),\n",
        "                transforms.RandomResizedCrop(size=32),\n",
        "                transforms.RandomApply(\n",
        "                    [transforms.ColorJitter(brightness=0.5, contrast=0.5, saturation=0.5, hue=0.1)], p=0.8\n",
        "                ),\n",
        "                transforms.RandomGrayscale(0.2),\n",
        "                transforms.Normalize((0.5,), (0.5,)),\n",
        "            ]\n",
        "        )\n",
        "        self.weak_transforms = transforms.Compose([transforms.RandomHorizontalFlip(), transforms.RandomVerticalFlip()])\n",
        "\n",
        "    @property\n",
        "    def device(self):\n",
        "        return next(self.clf.parameters()).device\n",
        "\n",
        "    def fit(self, train_dataloader, test_dataloader, n_epochs=10, lr=1e-4, device=\"cuda\"):\n",
        "        self.to(device)\n",
        "        losses = []\n",
        "        accs = []\n",
        "        opt = torch.optim.AdamW(self.clf.parameters(), lr=lr)\n",
        "        for epoch in range(n_epochs):\n",
        "            pbar = tqdm(train_dataloader, desc=\"Training...\")\n",
        "            for batch in pbar:\n",
        "                imgs, labels = batch\n",
        "                imgs = imgs.to(device)\n",
        "                labels = labels.to(device)\n",
        "\n",
        "                loss = self.__loss(imgs, labels)\n",
        "                acc = self.__calc_acc(test_dataloader)\n",
        "\n",
        "                losses.append(loss.item())\n",
        "                accs.append(acc.item())\n",
        "\n",
        "                opt.zero_grad()\n",
        "                loss.backward()\n",
        "                opt.step()\n",
        "\n",
        "                pbar.set_postfix({\"loss\": losses[-1], \"acc_val\": accs[-1]})\n",
        "\n",
        "        return np.array(losses), np.array(accs)\n",
        "\n",
        "    def __loss(self, imgs, labels):\n",
        "        labeled = labels != -1\n",
        "        ce_loss = self.__loss_clf(imgs[labeled], labels[labeled])\n",
        "        adv_loss = self.__loss_unlabeled(imgs)\n",
        "        return ce_loss + adv_loss\n",
        "\n",
        "    def __loss_clf(self, imgs, labels):\n",
        "        logits = self.clf(imgs)\n",
        "        return F.cross_entropy(logits, labels)\n",
        "\n",
        "    def __loss_unlabeled(self, imgs):\n",
        "        with torch.no_grad():\n",
        "            logits = self.clf(self.weak_transforms(imgs))\n",
        "            probs, inds = logits.softmax(dim=-1).max(-1)\n",
        "\n",
        "            conf_mask = probs >= self.tau\n",
        "\n",
        "            if torch.count_nonzero(conf_mask) == 0:\n",
        "                return 0\n",
        "\n",
        "        logits = self.clf(self.strong_transforms(imgs))\n",
        "        loss = F.cross_entropy(logits[conf_mask], inds[conf_mask])\n",
        "\n",
        "        return loss\n",
        "\n",
        "    @torch.no_grad()\n",
        "    def __calc_acc(self, dataloader):\n",
        "        for batch in dataloader:\n",
        "            imgs, labels = batch\n",
        "            imgs = imgs.to(self.device)\n",
        "            labels = labels.to(self.device)\n",
        "            logits = self.clf(imgs)\n",
        "\n",
        "            self.acc(logits.argmax(dim=-1), labels)\n",
        "\n",
        "        acc = self.acc.compute()\n",
        "        self.acc.reset()\n",
        "\n",
        "        return acc\n",
        "\n",
        "\n",
        "def create_dataloader(data, bs, shuffle=True):\n",
        "    imgs, labels = zip(*data)\n",
        "    imgs = torch.stack(imgs, dim=0)\n",
        "    labels = torch.tensor(labels, dtype=torch.int64)\n",
        "\n",
        "    dataset = torch.utils.data.TensorDataset(imgs, labels)\n",
        "\n",
        "    return torch.utils.data.DataLoader(dataset, batch_size=bs, shuffle=shuffle)"
      ],
      "metadata": {
        "id": "SevTEBSWKu7v"
      },
      "execution_count": 26,
      "outputs": []
    },
    {
      "cell_type": "code",
      "source": [
        "def q2(train_data, test_data):\n",
        "    \"\"\"\n",
        "    train_data: An (n_train, 3, 32, 32) torchvision dataset of CIFAR10 images with values from -1 to 1\n",
        "\n",
        "    Returns\n",
        "    - a (# of training iterations, ) numpy array  losses on each iteration\n",
        "    - a (# of training epochs, ) numpy array accuracies on each epoch\n",
        "    \"\"\"\n",
        "    torch.manual_seed(42)\n",
        "    bs = 256\n",
        "    lr = 4e-4\n",
        "    tau = 0.95\n",
        "    n_epochs = 2\n",
        "    device = \"cuda\"\n",
        "\n",
        "    train_loader = create_dataloader(train_data, bs)\n",
        "    test_loader = create_dataloader(test_data, bs, False)\n",
        "\n",
        "    model = FixMatch(tau)\n",
        "    losses, accs = model.fit(train_loader, test_loader, n_epochs=n_epochs, lr=lr, device=device)\n",
        "\n",
        "    return losses, accs"
      ],
      "metadata": {
        "id": "UZGq-KG9abw3"
      },
      "execution_count": 27,
      "outputs": []
    },
    {
      "cell_type": "code",
      "source": [
        "q12_results(q2)"
      ],
      "metadata": {
        "id": "ePG4-hS0abw_",
        "colab": {
          "base_uri": "https://localhost:8080/",
          "height": 642
        },
        "outputId": "77a3601a-ead2-4554-9a18-b672493035be"
      },
      "execution_count": 28,
      "outputs": [
        {
          "output_type": "stream",
          "name": "stdout",
          "text": [
            "Files already downloaded and verified\n",
            "Files already downloaded and verified\n"
          ]
        },
        {
          "output_type": "stream",
          "name": "stderr",
          "text": [
            "Training...: 100%|██████████| 196/196 [01:22<00:00,  2.38it/s, loss=1.87, acc_val=0.367]\n",
            "Training...: 100%|██████████| 196/196 [01:31<00:00,  2.14it/s, loss=1.73, acc_val=0.397]\n"
          ]
        },
        {
          "output_type": "display_data",
          "data": {
            "image/png": "[encoded data removed]",
            "text/plain": [
              "<Figure size 432x288 with 1 Axes>"
            ]
          },
          "metadata": {
            "needs_background": "light"
          }
        },
        {
          "output_type": "display_data",
          "data": {
            "image/png": "[encoded data removed]",
            "text/plain": [
              "<Figure size 432x288 with 1 Axes>"
            ]
          },
          "metadata": {
            "needs_background": "light"
          }
        }
      ]
    },
    {
      "cell_type": "markdown",
      "source": [
        "# Bonus\n",
        "\n",
        "## The probabilistic model\n",
        "\n",
        "*(this is a short summary of the model presented in [\"Semi-supervised Learning with\n",
        "Deep Generative Models\"](https://arxiv.org/pdf/1406.5298.pdf))*\n",
        "\n",
        "In the semi-supervised setting, the generative model is a little more complicated than vanilla VAE. In particular, it incorporates a new variable $y$ that represents the class of a digit $x$.\n",
        "\n",
        "\\begin{align*}\n",
        "& p(x, y, z) = p(x \\mid y, z) p(z) p(y) \\\\\n",
        "& p(y) = Cat(y \\mid \\pi_0), \\pi_0 = (1/10, \\dots, 1/10) \\\\\n",
        "& p(z) = \\mathcal N(z \\mid 0, I) \\\\\n",
        "& p(x \\mid y, z) = \\prod_{i=1}^D p_i(y, z)^{x_i} (1 - p_i(y, z))^{1 - x_i}\n",
        "\\end{align*}\n",
        "\n",
        "## The first part of the objective\n",
        "\n",
        "Whenever we train a probabilistic model with partial observations, we interpret the unobserved variables as latent variables. Then we marginalize them. In this case, the loss function splits into two terms: one for observed variables (we denote the set of indices of observed labels $P$), another for unobserved.\n",
        "\n",
        "\\begin{equation}\n",
        "L(X, y) = \\sum_{i \\notin P} \\log p(x_i) + \\sum_{i \\in P} \\log p(x_i, y_i)\n",
        "\\end{equation}\n",
        "\n",
        "Again, we can't compute the exact values of marginal likelihoods and resort to variational lower bound on likelihood. To compute lower bounds, we define the following variational approximation:\n",
        "\n",
        "\\begin{align*}\n",
        "& q(y, z \\mid x) = q(y \\mid x) q(z \\mid y, x)\\\\\n",
        "& \\\\\n",
        "& q(y \\mid x) = Cat(y \\mid \\pi(x))\\\\\n",
        "& q(z \\mid y, x) = \\mathcal N(z \\mid \\mu_\\phi(x, y), \\operatorname{diag}\\sigma^2_\\phi(y, x))\n",
        "\\end{align*}\n",
        "\n",
        "Using the variational approximation, we will obtain two lower bounds.\n",
        "\n",
        "First, the ELBO for $\\log p(x_i, y_i)$ for the observed variables (this one is similar to ELBO of VAE).\n",
        "\n",
        "\\begin{equation}\n",
        "\\log p(x, y) = \\log \\mathbb E_{p(z)} p(x, y \\mid z) \\geq \\mathbb E_{q(z \\mid y, x)} \\log \\frac{p(x, y \\mid z) p(z)}{q(z \\mid y, x)}\n",
        "\\end{equation}\n",
        "\n",
        "Second, the ELBO for $\\log p(x_i)$ for the unobserved variables.\n",
        "\n",
        "\\begin{equation}\n",
        "\\log p(x) = \\log \\mathbb E_{p(y)} \\mathbb E_{p(z \\mid y)} \\log p(x\\mid z, y)\\geq \\mathbb E_{q(y \\mid x)} \\mathbb E_{q(z \\mid y, x)} \\log \\frac{p(x, y \\mid z) p(z)}{q(z \\mid y, x) q(y \\mid x)}\n",
        "\\end{equation}\n",
        "\n",
        "Finally, the joint lower bound will be\n",
        "\n",
        "\\begin{equation}\n",
        "\\mathcal L(X, y) = \\sum_{i \\in P} \\mathbb E_{q(z_i \\mid y_i, x_i)} \\log \\frac{p(x_i, y_i \\mid z_i) p(z_i)}{q(z_i \\mid y_i, x_i)} + \\sum_{i \\notin P} \\mathbb E_{q(y_i \\mid x_i)} \\mathbb E_{q(z_i \\mid y_i, x_i)} \\log \\frac{p(x_i, y_i \\mid z_i) p(z_i)}{q(z_i \\mid y_i, x_i) q(y_i \\mid x_i)}\n",
        "\\end{equation}\n",
        "\n",
        "We will use reparametrized Monte-Carlo estimates to approximate expectation w.r.t. $z$. To approximate expectaion w.r.t. the discrete variable $y$ we will try three different options."
      ],
      "metadata": {
        "id": "70Ckao5QSblC"
      }
    },
    {
      "cell_type": "code",
      "source": [
        "def b(train_data, test_data):\n",
        "    \"\"\"\n",
        "    train_data: An (n_train, 1, 28, 28) torchvision dataset of binary MNIST images\n",
        "    Returns\n",
        "    - a (# of training iterations, ) numpy array  losses on each iteration\n",
        "    - a (# of training epochs, ) numpy array accuracies on each epoch\n",
        "    \"\"\""
      ],
      "metadata": {
        "id": "opRfI5beScTp"
      },
      "execution_count": null,
      "outputs": []
    }
  ]
}