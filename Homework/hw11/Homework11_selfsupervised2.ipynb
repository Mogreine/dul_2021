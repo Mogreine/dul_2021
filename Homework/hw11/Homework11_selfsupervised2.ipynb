{
 "nbformat": 4,
 "nbformat_minor": 0,
 "metadata": {
  "colab": {
   "name": "Homework11_selfsupervised2.ipynb",
   "provenance": [],
   "collapsed_sections": []
  },
  "kernelspec": {
   "name": "python3",
   "display_name": "Python 3"
  },
  "language_info": {
   "name": "python"
  },
  "accelerator": "GPU"
 },
 "cells": [
  {
   "cell_type": "markdown",
   "metadata": {
    "id": "view-in-github"
   },
   "source": [
    "<a href=\"https://colab.research.google.com/github/GrigoryBartosh/dul_2021/blob/main/Homework/hw11/Homework11_selfsupervised2.ipynb\" target=\"_parent\"><img src=\"https://colab.research.google.com/assets/colab-badge.svg\" alt=\"Open In Colab\"/></a>"
   ]
  },
  {
   "cell_type": "code",
   "source": [
    "!if [ -d dul_2021 ]; then rm -Rf dul_2021; fi\n",
    "!git clone https://github.com/GrigoryBartosh/dul_2021\n",
    "!pip install ./dul_2021"
   ],
   "metadata": {
    "colab": {
     "base_uri": "https://localhost:8080/"
    },
    "id": "4dRz5SIFKfZD",
    "outputId": "41b2386e-363c-4c6d-cd51-c23db35dc6ae"
   },
   "execution_count": 6,
   "outputs": [
    {
     "output_type": "stream",
     "name": "stdout",
     "text": [
      "Cloning into 'dul_2021'...\n",
      "remote: Enumerating objects: 361, done.\u001B[K\n",
      "remote: Counting objects: 100% (198/198), done.\u001B[K\n",
      "remote: Compressing objects: 100% (127/127), done.\u001B[K\n",
      "remote: Total 361 (delta 112), reused 90 (delta 65), pack-reused 163\u001B[K\n",
      "Receiving objects: 100% (361/361), 55.77 MiB | 37.35 MiB/s, done.\n",
      "Resolving deltas: 100% (169/169), done.\n",
      "Processing ./dul_2021\n",
      "\u001B[33m  DEPRECATION: A future pip version will change local packages to be built in-place without first copying to a temporary directory. We recommend you use --use-feature=in-tree-build to test your packages with this new behavior before it becomes the default.\n",
      "   pip 21.3 will remove support for this functionality. You can find discussion regarding this at https://github.com/pypa/pip/issues/7555.\u001B[0m\n",
      "Building wheels for collected packages: dul-2021\n",
      "  Building wheel for dul-2021 (setup.py) ... \u001B[?25l\u001B[?25hdone\n",
      "  Created wheel for dul-2021: filename=dul_2021-0.1.0-py3-none-any.whl size=26856 sha256=7c83994a554bfab9231e5ce799bc61ae249f3ee49a230bb19d66b93a8fc85afd\n",
      "  Stored in directory: /tmp/pip-ephem-wheel-cache-_mvebtpt/wheels/55/59/29/0fb1c635652157734f4d741f32fc11979149684e83e919de06\n",
      "Successfully built dul-2021\n",
      "Installing collected packages: dul-2021\n",
      "Successfully installed dul-2021-0.1.0\n"
     ]
    }
   ]
  },
  {
   "cell_type": "code",
   "source": [
    "from dul_2021.utils.hw11_utils import *"
   ],
   "metadata": {
    "id": "KjY-iIy5MSZb"
   },
   "execution_count": 7,
   "outputs": []
  },
  {
   "cell_type": "markdown",
   "source": [
    "# Question 1. BYOL\n",
    "\n",
    "Here we will implement [BYOL](https://arxiv.org/abs/2006.07733).\n",
    "\n",
    "* You can combine view, representation, and projection into one network. You can use same architechure as in practice. \n",
    "\n",
    "* Use BatchNorm\n",
    "\n",
    "* As predictor use few linear layers\n",
    "\n",
    "* Dataset comes untransformed, so you need to apply transformations during training by yourself. Use same augmentations as in SimCLR\n",
    "\n",
    "**Hyperparameters**\n",
    "\n",
    "* τ = 0.99 (target update coefficient)\n",
    "* lr = 1e-4\n",
    "* num_epochs = 20\n",
    "* latent dim = 128\n",
    "\n",
    "\n",
    "\n",
    "**You will provide the following deliverables**\n",
    "\n",
    "\n",
    "1. Over the course of training, record loss ber batch.\n",
    "2. A function that encodes a batch of images with your trained model. The function recieves a batch torch tensors on cpu and should return transformed 2d tensor (batch size x laten dim). It will be used to test representation on classification task."
   ],
   "metadata": {
    "id": "t7J5FgOHW6Z-"
   }
  },
  {
   "cell_type": "code",
   "source": [
    "import numpy as np\n",
    "import torch\n",
    "import torch.nn.functional as F\n",
    "\n",
    "from torchvision import transforms\n",
    "from torch import nn\n",
    "from copy import deepcopy\n",
    "\n",
    "from tqdm import tqdm\n",
    "\n",
    "\n",
    "class Net(nn.Module):\n",
    "    def __init__(self, in_dim=3, out_dim=128, hid_dim_full=128):\n",
    "        super(Net, self).__init__()\n",
    "\n",
    "        self.conv1 = nn.Conv2d(in_dim, 16, 5, padding=2)\n",
    "        self.conv2 = nn.Conv2d(16, 16, 3, padding=1, stride=2)\n",
    "        self.conv3 = nn.Conv2d(16, 32, 5, padding=2)\n",
    "        self.conv4 = nn.Conv2d(32, 32, 3, padding=1, stride=2)\n",
    "        self.conv5 = nn.Conv2d(32, 32, 1)\n",
    "        self.conv6 = nn.Conv2d(32, 4, 1)\n",
    "        self.bn1 = nn.BatchNorm2d(16)\n",
    "        self.bn2 = nn.BatchNorm2d(16)\n",
    "        self.bn3 = nn.BatchNorm2d(32)\n",
    "        self.bn4 = nn.BatchNorm2d(32)\n",
    "        self.bn5 = nn.BatchNorm2d(32)\n",
    "        self.bn6 = nn.BatchNorm2d(4)\n",
    "\n",
    "        self.conv_to_fc = 4 * 6 * 6\n",
    "        self.fc1 = nn.Linear(self.conv_to_fc, hid_dim_full)\n",
    "        self.fc2 = nn.Linear(hid_dim_full, int(hid_dim_full // 2))\n",
    "\n",
    "        self.features = nn.Linear(int(hid_dim_full // 2), out_dim)\n",
    "\n",
    "    def forward(self, x):\n",
    "        x = F.relu(self.bn1(self.conv1(x)))\n",
    "        x = F.relu(self.bn2(self.conv2(x)))\n",
    "        x = F.relu(self.bn3(self.conv3(x)))\n",
    "        x = F.relu(self.bn4(self.conv4(x)))\n",
    "        x = F.relu(self.bn5(self.conv5(x)))\n",
    "        x = F.relu(self.bn6(self.conv6(x)))\n",
    "\n",
    "        x = x.view(-1, self.conv_to_fc)\n",
    "        x = F.relu(self.fc1(x))\n",
    "        x = F.relu(self.fc2(x))\n",
    "\n",
    "        features = self.features(x)\n",
    "\n",
    "        return features\n",
    "\n",
    "\n",
    "class BYOL(nn.Module):\n",
    "    def __init__(self):\n",
    "        super().__init__()\n",
    "        self.student = Net(1, 128)\n",
    "\n",
    "        self.teacher = deepcopy(self.student)\n",
    "        self.teacher.requires_grad_(False)\n",
    "\n",
    "        self.transforms = nn.Sequential(\n",
    "            *[\n",
    "                transforms.RandomHorizontalFlip(),\n",
    "                transforms.RandomResizedCrop(size=24),\n",
    "                transforms.GaussianBlur(kernel_size=9),\n",
    "            ]\n",
    "        )\n",
    "\n",
    "        self.inference_transforms = transforms.Resize(24)\n",
    "\n",
    "    @property\n",
    "    def device(self):\n",
    "        return next(self.student.parameters()).device\n",
    "\n",
    "    def __soft_update(self, src, tgt, eps=0.99):\n",
    "        for src_p, tgt_p in zip(src, tgt):\n",
    "            tgt_p.copy_(eps * tgt_p + (1 - eps) * src_p)\n",
    "\n",
    "    def fit(self, data_loader, n_epochs=10, lr=1e-4, device=\"cpu\"):\n",
    "        self.to(device)\n",
    "        losses = []\n",
    "        opt = torch.optim.Adam(self.student.parameters(), lr=lr)\n",
    "        for epoch in range(n_epochs):\n",
    "            for batch in tqdm(data_loader):\n",
    "                t1 = self.transforms(batch).to(device)\n",
    "                t2 = self.transforms(batch).to(device)\n",
    "\n",
    "                z1 = self.student(t1)\n",
    "                z2 = self.teacher(t2)\n",
    "\n",
    "                z1 = z1 / torch.norm(z1, dim=0)\n",
    "                z2 = z2 / torch.norm(z2, dim=0)\n",
    "\n",
    "                loss = F.mse_loss(z1, z2, reduction=\"none\")\n",
    "                loss = loss.sum(-1).mean()\n",
    "\n",
    "                losses.append(loss.item())\n",
    "\n",
    "                opt.zero_grad()\n",
    "                loss.backward()\n",
    "                opt.step()\n",
    "\n",
    "        return np.array(losses)\n",
    "\n",
    "    @torch.inference_mode()\n",
    "    def encode(self, batch):\n",
    "        batch = self.inference_transforms(batch)\n",
    "        return self.student(batch.to(self.device))"
   ],
   "metadata": {
    "id": "82TjpkdHLdlY"
   },
   "execution_count": 8,
   "outputs": []
  },
  {
   "cell_type": "code",
   "source": [
    "def q1(train_data):\n",
    "    \"\"\"\n",
    "    train_data: An (n_train, 1, 28, 28) torchvision dataset of MNIST images with values from -1 to 1\n",
    "\n",
    "    Returns\n",
    "    - a (# of training iterations, ) numpy array  losses on each iteration\n",
    "    - a function that transforms batch of images into their latent representation\n",
    "    \"\"\"\n",
    "    torch.manual_seed(42)\n",
    "    bs = 128\n",
    "    lr = 1e-4\n",
    "    n_epochs = 4\n",
    "    device = \"cuda\"\n",
    "\n",
    "    train_data = [im for (im, label) in train_data]\n",
    "\n",
    "    data_loader = torch.utils.data.DataLoader(train_data, batch_size=bs)\n",
    "\n",
    "    model = BYOL()\n",
    "    losses = model.fit(data_loader, n_epochs, lr=lr, device=device)\n",
    "\n",
    "    return losses, model.encode"
   ],
   "metadata": {
    "id": "Og9Fv7sV6nrO"
   },
   "execution_count": 44,
   "outputs": []
  },
  {
   "cell_type": "code",
   "source": [
    "# change flag to False if you want only to test your losses w/o accuracy (it takes around 4-5 minutes)\n",
    "q1_results(q1, True)"
   ],
   "metadata": {
    "colab": {
     "base_uri": "https://localhost:8080/",
     "height": 382
    },
    "id": "3Ib0ne2mX80s",
    "outputId": "228ffbcb-b7aa-4ca9-ff1c-aa0f2af368ee"
   },
   "execution_count": 45,
   "outputs": [
    {
     "output_type": "stream",
     "name": "stderr",
     "text": [
      "100%|██████████| 469/469 [00:17<00:00, 27.55it/s]\n",
      "100%|██████████| 469/469 [00:17<00:00, 26.62it/s]\n",
      "100%|██████████| 469/469 [00:16<00:00, 27.94it/s]\n",
      "100%|██████████| 469/469 [00:16<00:00, 28.29it/s]\n"
     ]
    },
    {
     "output_type": "stream",
     "name": "stdout",
     "text": [
      "mean classification accuracy=0.6110\n"
     ]
    },
    {
     "output_type": "display_data",
     "data": {
      "image/png": "[encoded data removed]",
      "text/plain": [
       "<Figure size 432x288 with 1 Axes>"
      ]
     },
     "metadata": {
      "needs_background": "light"
     }
    }
   ]
  },
  {
   "cell_type": "code",
   "source": [
    ""
   ],
   "metadata": {
    "id": "hyjVgSxqX6qC"
   },
   "execution_count": null,
   "outputs": []
  },
  {
   "cell_type": "markdown",
   "source": [
    "# Question 2. Barlow Twins\n",
    "\n",
    "Here we will implement [barlow twins](https://arxiv.org/abs/2103.03230).\n",
    "\n",
    "* You can use same architechure as in practice. \n",
    "\n",
    "* Dataset comes untransformed, so you need to apply transformations during training by yourself. Use same augmentations as in SimCLR\n",
    "\n",
    "**Hyperparameters**\n",
    "\n",
    "* λ = 0.01 \n",
    "* lr = 5e-4\n",
    "* num_epochs = 20\n",
    "* latent dim = 128\n",
    "\n",
    "\n",
    "\n",
    "**You will provide the following deliverables**\n",
    "\n",
    "\n",
    "1. Over the course of training, record loss ber batch.\n",
    "2. A function that encodes a batch of images with your trained model. The function recieves a batch torch tensors on cpu and should return transformed 2d tensor (batch size x laten dim). It will be used to test representation on classification task."
   ],
   "metadata": {
    "id": "hlbaIthyMGab"
   }
  },
  {
   "cell_type": "code",
   "source": [
    "class Net(nn.Module):\n",
    "    def __init__(self, in_dim=3, out_dim=128, hid_dim_full=128):\n",
    "        super(Net, self).__init__()\n",
    "\n",
    "        self.conv1 = nn.Conv2d(in_dim, 16, 5, padding=2)\n",
    "        self.conv2 = nn.Conv2d(16, 16, 3, padding=1, stride=2)\n",
    "        self.conv3 = nn.Conv2d(16, 32, 5, padding=2)\n",
    "        self.conv4 = nn.Conv2d(32, 32, 3, padding=1, stride=2)\n",
    "        self.conv5 = nn.Conv2d(32, 32, 1)\n",
    "        self.conv6 = nn.Conv2d(32, 4, 1)\n",
    "        self.bn1 = nn.BatchNorm2d(16)\n",
    "        self.bn2 = nn.BatchNorm2d(16)\n",
    "        self.bn3 = nn.BatchNorm2d(32)\n",
    "        self.bn4 = nn.BatchNorm2d(32)\n",
    "        self.bn5 = nn.BatchNorm2d(32)\n",
    "        self.bn6 = nn.BatchNorm2d(4)\n",
    "\n",
    "        self.conv_to_fc = 4 * 7 * 7\n",
    "        self.fc1 = nn.Linear(self.conv_to_fc, hid_dim_full)\n",
    "        self.fc2 = nn.Linear(hid_dim_full, int(hid_dim_full // 2))\n",
    "\n",
    "        self.features = nn.Linear(int(hid_dim_full // 2), out_dim)\n",
    "\n",
    "    def forward(self, x):\n",
    "        x = F.relu(self.bn1(self.conv1(x)))\n",
    "        x = F.relu(self.bn2(self.conv2(x)))\n",
    "        x = F.relu(self.bn3(self.conv3(x)))\n",
    "        x = F.relu(self.bn4(self.conv4(x)))\n",
    "        x = F.relu(self.bn5(self.conv5(x)))\n",
    "        x = F.relu(self.bn6(self.conv6(x)))\n",
    "\n",
    "        x = x.reshape(-1, self.conv_to_fc)\n",
    "        x = F.relu(self.fc1(x))\n",
    "        x = F.relu(self.fc2(x))\n",
    "\n",
    "        features = self.features(x)\n",
    "\n",
    "        return features\n",
    "\n",
    "\n",
    "class BarlowTwins(nn.Module):\n",
    "    def __init__(self):\n",
    "        super().__init__()\n",
    "        self.model = Net(3, 128)\n",
    "\n",
    "        self.transforms = nn.Sequential(\n",
    "            *[\n",
    "                transforms.RandomHorizontalFlip(),\n",
    "                transforms.RandomResizedCrop(size=28),\n",
    "                transforms.GaussianBlur(kernel_size=9),\n",
    "                transforms.RandomApply([\n",
    "                    transforms.ColorJitter(brightness=0.5,\n",
    "                                           contrast=0.5,\n",
    "                                           saturation=0.5,\n",
    "                                           hue=0.1)\n",
    "                ], p=0.8),\n",
    "                transforms.RandomGrayscale(p=0.2),\n",
    "            ]\n",
    "        )\n",
    "\n",
    "        self.inference_transforms = transforms.Resize(28)\n",
    "\n",
    "    @property\n",
    "    def device(self):\n",
    "        return next(self.model.parameters()).device\n",
    "\n",
    "    def __corr_matrix(self, z1, z2):\n",
    "        enum = torch.einsum(\"ab,ac->bc\", z1, z2)\n",
    "        denum = (z1 ** 2).sum(0).sqrt() * (z2 ** 2).sum(0).sqrt().reshape(-1, 1)\n",
    "        corr_matrix = enum / denum / z1.shape[0]\n",
    "\n",
    "        return corr_matrix\n",
    "\n",
    "    def fit(self, data_loader, n_epochs=10, lr=1e-4, lm=0.01, device=\"cpu\"):\n",
    "        self.to(device)\n",
    "        losses = []\n",
    "        opt = torch.optim.Adam(self.model.parameters(), lr=lr)\n",
    "        for epoch in range(n_epochs):\n",
    "            for batch in tqdm(data_loader):\n",
    "                t1 = self.transforms(batch).to(device)\n",
    "                t2 = self.transforms(batch).to(device)\n",
    "\n",
    "                z1 = self.model(t1)\n",
    "                z2 = self.model(t2)\n",
    "\n",
    "                z1 = (z1 - z1.mean(0)) / z1.std(0)\n",
    "                z2 = (z2 - z2.mean(0)) / z2.std(0)\n",
    "\n",
    "                corr_matrix = self.__corr_matrix(z1, z2)\n",
    "\n",
    "                invariance = ((1 - corr_matrix.diag()) ** 2).sum()\n",
    "\n",
    "                # zeroing diagonal elements\n",
    "                corr_matrix.diagonal(dim1=-1, dim2=-2).zero_()\n",
    "\n",
    "                redundancy_reduction = (corr_matrix ** 2).sum()\n",
    "\n",
    "                loss = invariance + lm * redundancy_reduction\n",
    "\n",
    "                losses.append(loss.item())\n",
    "\n",
    "                opt.zero_grad()\n",
    "                loss.backward()\n",
    "                opt.step()\n",
    "\n",
    "        return np.array(losses)\n",
    "\n",
    "    @torch.inference_mode()\n",
    "    def encode(self, batch):\n",
    "        batch = self.inference_transforms(batch)\n",
    "        return self.model(batch.to(self.device))"
   ],
   "metadata": {
    "id": "C0qGL211_HoV"
   },
   "execution_count": 16,
   "outputs": []
  },
  {
   "cell_type": "code",
   "source": [
    "def q2(train_data, test_data):\n",
    "    \"\"\"\n",
    "    train_data: An (n_train, 3, 32, 32) torchvision dataset of CIFAR10 images with values from -1 to 1\n",
    "\n",
    "    Returns\n",
    "    - a (# of training iterations, ) numpy array  losses on each iteration\n",
    "    - a function that transforms batch of images into their latent representation\n",
    "    \"\"\"\n",
    "    torch.manual_seed(42)\n",
    "    bs = 256\n",
    "    lr = 5e-4\n",
    "    n_epochs = 20\n",
    "    device = \"cuda\"\n",
    "\n",
    "    train_data = [im for (im, label) in train_data]\n",
    "\n",
    "    data_loader = torch.utils.data.DataLoader(train_data, batch_size=bs)\n",
    "\n",
    "    model = BarlowTwins()\n",
    "    losses = model.fit(data_loader, n_epochs, lr=lr, device=device)\n",
    "\n",
    "    return losses, model.encode"
   ],
   "metadata": {
    "id": "pd6RrZfP75HR"
   },
   "execution_count": 19,
   "outputs": []
  },
  {
   "cell_type": "code",
   "source": [
    "# change flag to False if you want only to test your losses w/o accuracy (it takes around 4-5 minutes)\n",
    "q2_results(q2, True)"
   ],
   "metadata": {
    "id": "EA1Z_s1a8_sB",
    "colab": {
     "base_uri": "https://localhost:8080/",
     "height": 694
    },
    "outputId": "d803c7a1-1cb4-4e30-eb7b-7baa1002b7e2"
   },
   "execution_count": 20,
   "outputs": [
    {
     "output_type": "stream",
     "name": "stdout",
     "text": [
      "Files already downloaded and verified\n",
      "Files already downloaded and verified\n"
     ]
    },
    {
     "output_type": "stream",
     "name": "stderr",
     "text": [
      "100%|██████████| 196/196 [00:36<00:00,  5.41it/s]\n",
      "100%|██████████| 196/196 [00:34<00:00,  5.70it/s]\n",
      "100%|██████████| 196/196 [00:35<00:00,  5.54it/s]\n",
      "100%|██████████| 196/196 [00:36<00:00,  5.32it/s]\n",
      "100%|██████████| 196/196 [00:36<00:00,  5.44it/s]\n",
      "100%|██████████| 196/196 [00:36<00:00,  5.40it/s]\n",
      "100%|██████████| 196/196 [00:34<00:00,  5.61it/s]\n",
      "100%|██████████| 196/196 [00:35<00:00,  5.58it/s]\n",
      "100%|██████████| 196/196 [00:34<00:00,  5.63it/s]\n",
      "100%|██████████| 196/196 [00:35<00:00,  5.56it/s]\n",
      "100%|██████████| 196/196 [00:35<00:00,  5.50it/s]\n",
      "100%|██████████| 196/196 [00:34<00:00,  5.67it/s]\n",
      "100%|██████████| 196/196 [00:36<00:00,  5.43it/s]\n",
      "100%|██████████| 196/196 [00:37<00:00,  5.27it/s]\n",
      "100%|██████████| 196/196 [00:35<00:00,  5.55it/s]\n",
      "100%|██████████| 196/196 [00:35<00:00,  5.48it/s]\n",
      "100%|██████████| 196/196 [00:37<00:00,  5.23it/s]\n",
      "100%|██████████| 196/196 [00:37<00:00,  5.30it/s]\n",
      "100%|██████████| 196/196 [00:34<00:00,  5.71it/s]\n",
      "100%|██████████| 196/196 [00:34<00:00,  5.64it/s]\n"
     ]
    },
    {
     "output_type": "stream",
     "name": "stdout",
     "text": [
      "mean classification accuracy=0.1639\n"
     ]
    },
    {
     "output_type": "display_data",
     "data": {
      "image/png": "[encoded data removed]",
      "text/plain": [
       "<Figure size 432x288 with 1 Axes>"
      ]
     },
     "metadata": {
      "needs_background": "light"
     }
    }
   ]
  },
  {
   "cell_type": "markdown",
   "source": [
    "# Bonus. SwAV\n",
    "\n",
    "Here we will implement [SwAV](https://arxiv.org/abs/2006.09882v5)\n",
    "\n",
    "**You will provide the following deliverables**\n",
    "\n",
    "\n",
    "1. Over the course of training, record loss ber batch.\n",
    "2. A function that encodes a batch of images with your trained model. The function recieves a batch torch tensors on cpu and should return transformed 2d tensor (batch size x laten dim). It will be used to test representation on classification task."
   ],
   "metadata": {
    "id": "D8UN9nr9aYGx"
   }
  },
  {
   "cell_type": "code",
   "source": [
    "def b(train_data):\n",
    "    \"\"\"\n",
    "    train_data: An (n_train, 1, 32, 32) torchvision dataset of CIFAR10 images with values from -1 to 1\n",
    "\n",
    "    Returns\n",
    "    - a (# of training iterations, ) numpy array  losses on each iteration\n",
    "    - a function that transforms batch of images into their latent representation\n",
    "    \"\"\""
   ],
   "metadata": {
    "id": "1Yin_8Ebaa8P"
   },
   "execution_count": null,
   "outputs": []
  },
  {
   "cell_type": "code",
   "source": [
    "q2_results(b, True)"
   ],
   "metadata": {
    "id": "S0jgIgLN8tzd"
   },
   "execution_count": null,
   "outputs": []
  }
 ]
}